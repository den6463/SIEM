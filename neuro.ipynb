{
 "cells": [
  {
   "cell_type": "code",
   "execution_count": 1,
   "metadata": {},
   "outputs": [],
   "source": [
    "import os\n",
    "import pandas as pd\n",
    "from sklearn.preprocessing import OneHotEncoder\n",
    "import numpy as np\n",
    "import tensorflow as tf\n",
    "from tensorflow.keras import layers\n",
    "from sklearn.model_selection import train_test_split\n",
    "import re\n",
    "from sklearn.metrics import accuracy_score, precision_recall_fscore_support\n",
    "from matplotlib import pyplot as plt"
   ]
  },
  {
   "cell_type": "code",
   "execution_count": 2,
   "metadata": {},
   "outputs": [],
   "source": [
    "def read_files(path):\n",
    "    dataset = []\n",
    "    for filename in os.listdir(path):\n",
    "        with open(os.path.join(path, filename), encoding = 'utf-8') as f:\n",
    "            line = f.read().replace('\\n', ' ').replace('\\t', ' ').replace('\\r', ' ')\n",
    "            dataset.append(re.sub(r'\\s+', ' ', line))\n",
    "    return dataset\n"
   ]
  },
  {
   "cell_type": "code",
   "execution_count": 3,
   "metadata": {},
   "outputs": [],
   "source": [
    "# Загрузка датасета\n",
    "train_bad = read_files('malicious_pure')\n",
    "train_valid = read_files('powershell_benign_dataset')\n",
    "test_bad = read_files('test_ds_bad')\n",
    "test_valid = read_files('test_ds_valid')\n",
    "\n",
    "# Объединяем массивы в единые датасеты\n",
    "train_ds = train_bad + train_valid\n",
    "test_ds = test_bad + test_valid\n",
    "# Создаем массивы с метками\n",
    "# 1 - malicious\n",
    "# 0 - clean\n",
    "y_train_bad = [1 for i in range(0, len(train_bad))]\n",
    "y_train_valid = [0 for i in range(0, len(train_valid))]\n",
    "y_train = y_train_bad + y_train_valid\n",
    "y_test_bad = [1 for i in range(0, len(test_bad))]\n",
    "y_test_valid = [0 for i in range(0, len(test_valid))]\n",
    "y_test = y_test_bad + y_test_valid"
   ]
  },
  {
   "cell_type": "code",
   "execution_count": 4,
   "metadata": {},
   "outputs": [],
   "source": [
    "def clean_data_to_tokens(dataset):\n",
    "    tokens = []\n",
    "    char_replace = \"()[]{},;'/\\=:^<>|`+\\\"\"\n",
    "    for source_string in dataset:\n",
    "        source_string = re.sub(r\"FromBase64String\\(\\'(.*)\\'\\)\", \"base64_string\", source_string)\n",
    "        source_string = re.sub(r\"([a-zA-Z0-9\\/\\+=]{100,})+\", \"base64_string\", source_string)\n",
    "        for char in char_replace:\n",
    "            source_string = source_string.replace(char, ' ')\n",
    "        source_string = re.sub(r\"(?<!\\S)\\d+(?!\\S)\", \" \", source_string)\n",
    "        source_string = re.sub(r\"0x\\S+\", \" \", source_string)\n",
    "        ip_addresses = re.findall(r'(?:(?:25[0-5]|2[0-4][0-9]|[01]?[0-9][0-9]?)\\.){3}(?:25[0-5]|2[0-4][0-9]|[01]?[0-9][0-9]?)', source_string)\n",
    "        for ip in ip_addresses:\n",
    "            if ip.startswith('10.') or ip.startswith('192.') or ip.startswith('172.16.') or ip.startswith('127.0.'):\n",
    "                source_string = source_string.replace(ip, 'internal_ip')\n",
    "            else:\n",
    "                source_string = source_string.replace(ip, 'external_ip')\n",
    "        source_string = source_string.replace('.', ' ')\n",
    "        tokens.append(re.sub(r'\\s+', ' ', source_string.lower()))\n",
    "    return tokens\n",
    "# Обрабатываем данные\n",
    "train_token_ds = clean_data_to_tokens(train_ds)\n",
    "test_token_ds = clean_data_to_tokens(test_ds)"
   ]
  },
  {
   "cell_type": "code",
   "execution_count": 5,
   "metadata": {},
   "outputs": [
    {
     "name": "stdout",
     "output_type": "stream",
     "text": [
      "Информация по данным тренировочного датасета\n",
      "Средняя длинна в токенах:  308.24035108813274\n",
      "Максимальная длинна в токенах:  29572\n",
      "Количество токенов в строке покрывающих 95% всех строк:  1062\n",
      "Количество токенов в строке покрывающих 97% всех строк:  1589\n",
      "Количество токенов в строке покрывающих 99% всех строк:  4862\n",
      "Словарь уникальных токенов в исходных данных (Токен:Количество): \n",
      " {'if': 34879, 'intptr': 28896, 'system': 25967, '-name': 24352, '@': 22685, 'should': 20640, 'assert-areequal': 19074, 'name': 16596, '$': 15566, '$true': 15117, 'string': 14727, '-eq': 14585, '$i': 14420, '$_': 14063, 'uint': 13883, 'public': 13361, 'function': 13285, 'parameter': 12130, 'new-object': 11594, '-resourcegroupname': 10698, '$rgname': 10264, '-path': 10211, 'count': 9904, '$false': 9785, '$null': 9614, 'the': 9500, 'else': 9493, 'it': 9493, 'length': 9291, 'dll': 8864, 'to': 8728, '$z': 8676, 'for': 8622, 'mandatory': 8083, '$result': 8047, 'out-null': 7968, 'param': 7784, 'byte': 7721, '$w': 7691, '-force': 7533, 'microsoft': 7514, 'in': 7499, 'return': 7469, '$typebuilder': 6947, 'static': 6739, 'exe': 6403, '*': 6132, 'dllimport': 6094, 'extern': 6092, 'add': 6038, '$script': 5749, 'not': 5648, 'a': 5597, 'runtime': 5589, 'try': 5392, 'interopservices': 5388, 'write-host': 5374, '$g': 5264, 'uint32': 5250, '$env': 5211, 'write-verbose': 5193, '-be': 5100, '-not': 5037, 'id': 5017, 'windows': 4879, '-value': 4855, 'marshal': 4849, 'be': 4801, 'kernel32': 4790, '-and': 4717, '$x': 4715, 'definefield': 4688, 'type': 4678, '$p': 4593, 'assert-notnull': 4582, 'is': 4503, 'net': 4486, '\\x00': 4440, 'foreach': 4415, '0': 4310, '-erroraction': 4284, '-ne': 4277, 'value': 4203, 'powershell': 4201, 'throw': 4130, 'path': 4086, '$resourcegroupname': 4065, 'position': 4055, '-gt': 4047, '-location': 4025, 'virtualalloc': 4023, 'size': 3991, 'memset': 3958, 'createthread': 3935, 'add-member': 3922, 'noteproperty': 3885, '-message': 3782, '-': 3708, '$location': 3705, '-or': 3543}\n",
      "Количество уникальных токенов в исходных данных:  91859\n"
     ]
    }
   ],
   "source": [
    "# Вывод статистики по датасету\n",
    "def dataset_info(input_data):\n",
    "    sent_lens = [len(sentence.split()) for sentence in input_data]\n",
    "    avg_sent_len = np.mean(sent_lens)\n",
    "    max_token_len = max([len(sentence.split()) for sentence in input_data])\n",
    "    print('Средняя длинна в токенах: ', avg_sent_len) \n",
    "    print('Максимальная длинна в токенах: ', max_token_len)\n",
    "    output_seq_len_95 = int(np.percentile(sent_lens, 95))\n",
    "    print('Количество токенов в строке покрывающих 95% всех строк: ', output_seq_len_95)\n",
    "    output_seq_len_97 = int (np. percentile(sent_lens, 97))\n",
    "    print('Количество токенов в строке покрывающих 97% всех строк: ', output_seq_len_97)\n",
    "    output_seq_len_99 = int(np.percentile(sent_lens, 99))\n",
    "    print('Количество токенов в строке покрывающих 99% всех строк: ', output_seq_len_99)\n",
    "\n",
    "# Cловарь с уникальными токенами\n",
    "def dataset_vocab(input_data):\n",
    "    unique_words = {}\n",
    "    for data in input_data:\n",
    "        words = data.split()\n",
    "        for word in words:\n",
    "            if word not in unique_words:\n",
    "                unique_words[word] = 1\n",
    "            else:\n",
    "                unique_words[word] += 1\n",
    "    # Сортируем словарь от большего к меньшему\n",
    "    sorted_unique_words = {k:v for k,v in sorted(unique_words.items(), key=lambda item: item[1], reverse=True)}\n",
    "    # Ограничение на вывод первых 100 элементов словаря\n",
    "    sorted_unique_words = dict(list(sorted_unique_words.items())[:100])\n",
    "    unique_words_count = len(unique_words.keys())\n",
    "    print('Словарь уникальных токенов в исходных данных (Токен:Количество): \\n', sorted_unique_words)\n",
    "    print('Количество уникальных токенов в исходных данных: ', unique_words_count)\n",
    "# Выводим статистику по тренировочному датасету\n",
    "print('Информация по данным тренировочного датасета') \n",
    "dataset_info(train_token_ds)\n",
    "dataset_vocab(train_token_ds)   "
   ]
  },
  {
   "cell_type": "code",
   "execution_count": 6,
   "metadata": {},
   "outputs": [],
   "source": [
    "# Функция обрезает строки в массиве до количества токенов max_token_count\n",
    "def truncate_string(input_data, max_token_count):\n",
    "  for index in range(len(input_data)):\n",
    "    token_count = len(input_data[index].split())\n",
    "    if token_count > max_token_count:\n",
    "      input_data[index] = ' '.join(input_data[index].split()[:max_token_count])\n",
    "  return input_data\n",
    "max_token = 2000 # Значение в токенах покрывающее ~97% всех строк\n",
    "train_token_ds = truncate_string(train_token_ds, max_token)\n",
    "test_token_ds = truncate_string(test_token_ds, max_token)"
   ]
  },
  {
   "cell_type": "code",
   "execution_count": 7,
   "metadata": {},
   "outputs": [],
   "source": [
    "# Разделяем тренировочный датасет на 2 части (для тренировки и валидации) в пропорции 80х20\n",
    "train_tokens, val_tokens, train_labels, val_labels = train_test_split(train_token_ds, y_train, test_size=0.2, random_state=42)\n",
    "# Отдельно сохраняем валидационные метки, далее будем использовать для тестирования модели.\n",
    "val_labels_encoded = val_labels\n",
    "# Кодируем метки OneHotEncoder\n",
    "train_labels = pd.DataFrame(train_labels)\n",
    "val_labels = pd.DataFrame(val_labels)\n",
    "one_hot_encoder = OneHotEncoder(sparse_output=False)\n",
    "train_labels = one_hot_encoder.fit_transform(train_labels.to_numpy().reshape(-1, 1))\n",
    "val_labels = one_hot_encoder.transform(val_labels.to_numpy().reshape(-1, 1))\n",
    "# Формируем датасеты для тренировки, валидации и проверки\n",
    "train_dataset = tf.data.Dataset.from_tensor_slices((train_tokens, train_labels))\n",
    "val_dataset = tf.data.Dataset.from_tensor_slices((val_tokens, val_labels))\n",
    "test_dataset = tf.data.Dataset.from_tensor_slices((test_token_ds))\n",
    "train_dataset = train_dataset.batch(16).prefetch(tf.data.AUTOTUNE)\n",
    "val_dataset = val_dataset.batch(16).prefetch(tf.data.AUTOTUNE)\n",
    "test_dataset = test_dataset.batch(16).prefetch(tf.data.AUTOTUNE)"
   ]
  },
  {
   "cell_type": "code",
   "execution_count": 8,
   "metadata": {},
   "outputs": [],
   "source": [
    "max_tokens_count = 90000 # Максимальный размер словаря нашего датасета ~91000 мы возьмем ТОП самых часто встречающихся токенов\n",
    "# Создадим слой TextVectorization\n",
    "text_vectorizer = layers.TextVectorization(max_tokens=max_tokens_count, # Максимальный размер словаря\n",
    "                                           output_sequence_length=max_token, # максимальное количество токенов\n",
    "                                           standardize=None) # Не используем стандартизацию т.к. уже преобразовали данные\n",
    "text_vectorizer.adapt(train_tokens) # Формирование словаря"
   ]
  },
  {
   "cell_type": "code",
   "execution_count": 9,
   "metadata": {},
   "outputs": [],
   "source": [
    "token_embed = layers.Embedding(input_dim=max_tokens_count, # Максимальный размер словаря\n",
    "                               output_dim=16, # Количество эмбеддингов\n",
    "                               mask_zero=True)"
   ]
  },
  {
   "cell_type": "code",
   "execution_count": 10,
   "metadata": {},
   "outputs": [],
   "source": [
    "inputs = layers.Input(shape=(1,), dtype=tf.string)\n",
    "text_vectors = text_vectorizer(inputs) # Слой TextVectorization\n",
    "token_embeddings = token_embed(text_vectors) # Слой Embedding\n",
    "model = layers.Convolution1D(32, kernel_size=32, padding=\"same\",activation=\"relu\")(token_embeddings)\n",
    "model = layers.MaxPooling1D(pool_size=(2))(model)\n",
    "model = layers.Bidirectional(layers.LSTM(16))(model)\n",
    "outputs = layers.Dense(2, activation=\"softmax\")(model)\n",
    "model_pwsh = tf.keras.Model(inputs, outputs)"
   ]
  },
  {
   "cell_type": "code",
   "execution_count": 11,
   "metadata": {},
   "outputs": [
    {
     "name": "stdout",
     "output_type": "stream",
     "text": [
      "Model: \"model\"\n",
      "_________________________________________________________________\n",
      " Layer (type)                Output Shape              Param #   \n",
      "=================================================================\n",
      " input_1 (InputLayer)        [(None, 1)]               0         \n",
      "                                                                 \n",
      " text_vectorization (TextVe  (None, 2000)              0         \n",
      " ctorization)                                                    \n",
      "                                                                 \n",
      " embedding (Embedding)       (None, 2000, 16)          1440000   \n",
      "                                                                 \n",
      " conv1d (Conv1D)             (None, 2000, 32)          16416     \n",
      "                                                                 \n",
      " max_pooling1d (MaxPooling1  (None, 1000, 32)          0         \n",
      " D)                                                              \n",
      "                                                                 \n",
      " bidirectional (Bidirection  (None, 32)                6272      \n",
      " al)                                                             \n",
      "                                                                 \n",
      " dense (Dense)               (None, 2)                 66        \n",
      "                                                                 \n",
      "=================================================================\n",
      "Total params: 1462754 (5.58 MB)\n",
      "Trainable params: 1462754 (5.58 MB)\n",
      "Non-trainable params: 0 (0.00 Byte)\n",
      "_________________________________________________________________\n",
      "None\n"
     ]
    }
   ],
   "source": [
    "model_pwsh.compile(loss=\"categorical_crossentropy\",\n",
    "                   optimizer=tf.keras.optimizers.Adam(learning_rate=1e-4),\n",
    "                   metrics=[\"accuracy\"])\n",
    "print(model_pwsh.summary())"
   ]
  },
  {
   "cell_type": "code",
   "execution_count": 12,
   "metadata": {},
   "outputs": [],
   "source": [
    "checkpoint = tf.keras.callbacks.ModelCheckpoint(filepath='model_pwsh',\n",
    "                                                monitor='val_accuracy',\n",
    "                                                save_best_only=True)"
   ]
  },
  {
   "cell_type": "code",
   "execution_count": 13,
   "metadata": {},
   "outputs": [
    {
     "name": "stdout",
     "output_type": "stream",
     "text": [
      "Epoch 1/15\n",
      "416/416 [==============================] - ETA: 0s - loss: 0.3996 - accuracy: 0.9137INFO:tensorflow:Assets written to: model_pwsh\\assets\n"
     ]
    },
    {
     "name": "stderr",
     "output_type": "stream",
     "text": [
      "INFO:tensorflow:Assets written to: model_pwsh\\assets\n"
     ]
    },
    {
     "name": "stdout",
     "output_type": "stream",
     "text": [
      "416/416 [==============================] - 93s 217ms/step - loss: 0.3996 - accuracy: 0.9137 - val_loss: 0.1046 - val_accuracy: 0.9820\n",
      "Epoch 2/15\n",
      "416/416 [==============================] - ETA: 0s - loss: 0.0821 - accuracy: 0.9814INFO:tensorflow:Assets written to: model_pwsh\\assets\n"
     ]
    },
    {
     "name": "stderr",
     "output_type": "stream",
     "text": [
      "INFO:tensorflow:Assets written to: model_pwsh\\assets\n"
     ]
    },
    {
     "name": "stdout",
     "output_type": "stream",
     "text": [
      "416/416 [==============================] - 90s 216ms/step - loss: 0.0821 - accuracy: 0.9814 - val_loss: 0.0629 - val_accuracy: 0.9850\n",
      "Epoch 3/15\n",
      "416/416 [==============================] - ETA: 0s - loss: 0.0470 - accuracy: 0.9886INFO:tensorflow:Assets written to: model_pwsh\\assets\n"
     ]
    },
    {
     "name": "stderr",
     "output_type": "stream",
     "text": [
      "INFO:tensorflow:Assets written to: model_pwsh\\assets\n"
     ]
    },
    {
     "name": "stdout",
     "output_type": "stream",
     "text": [
      "416/416 [==============================] - 91s 218ms/step - loss: 0.0470 - accuracy: 0.9886 - val_loss: 0.0461 - val_accuracy: 0.9874\n",
      "Epoch 4/15\n",
      "416/416 [==============================] - ETA: 0s - loss: 0.0319 - accuracy: 0.9928INFO:tensorflow:Assets written to: model_pwsh\\assets\n"
     ]
    },
    {
     "name": "stderr",
     "output_type": "stream",
     "text": [
      "INFO:tensorflow:Assets written to: model_pwsh\\assets\n"
     ]
    },
    {
     "name": "stdout",
     "output_type": "stream",
     "text": [
      "416/416 [==============================] - 94s 225ms/step - loss: 0.0319 - accuracy: 0.9928 - val_loss: 0.0415 - val_accuracy: 0.9886\n",
      "Epoch 5/15\n",
      "416/416 [==============================] - ETA: 0s - loss: 0.0251 - accuracy: 0.9946INFO:tensorflow:Assets written to: model_pwsh\\assets\n"
     ]
    },
    {
     "name": "stderr",
     "output_type": "stream",
     "text": [
      "INFO:tensorflow:Assets written to: model_pwsh\\assets\n"
     ]
    },
    {
     "name": "stdout",
     "output_type": "stream",
     "text": [
      "416/416 [==============================] - 96s 231ms/step - loss: 0.0251 - accuracy: 0.9946 - val_loss: 0.0388 - val_accuracy: 0.9892\n",
      "Epoch 6/15\n",
      "416/416 [==============================] - ETA: 0s - loss: 0.0205 - accuracy: 0.9952INFO:tensorflow:Assets written to: model_pwsh\\assets\n"
     ]
    },
    {
     "name": "stderr",
     "output_type": "stream",
     "text": [
      "INFO:tensorflow:Assets written to: model_pwsh\\assets\n"
     ]
    },
    {
     "name": "stdout",
     "output_type": "stream",
     "text": [
      "416/416 [==============================] - 93s 223ms/step - loss: 0.0205 - accuracy: 0.9952 - val_loss: 0.0345 - val_accuracy: 0.9904\n",
      "Epoch 7/15\n",
      "416/416 [==============================] - ETA: 0s - loss: 0.0145 - accuracy: 0.9962INFO:tensorflow:Assets written to: model_pwsh\\assets\n"
     ]
    },
    {
     "name": "stderr",
     "output_type": "stream",
     "text": [
      "INFO:tensorflow:Assets written to: model_pwsh\\assets\n"
     ]
    },
    {
     "name": "stdout",
     "output_type": "stream",
     "text": [
      "416/416 [==============================] - 94s 226ms/step - loss: 0.0145 - accuracy: 0.9962 - val_loss: 0.0334 - val_accuracy: 0.9910\n",
      "Epoch 8/15\n",
      "416/416 [==============================] - 95s 228ms/step - loss: 0.0121 - accuracy: 0.9968 - val_loss: 0.0344 - val_accuracy: 0.9892\n",
      "Epoch 9/15\n",
      "416/416 [==============================] - 92s 222ms/step - loss: 0.0107 - accuracy: 0.9970 - val_loss: 0.0341 - val_accuracy: 0.9892\n",
      "Epoch 10/15\n",
      "416/416 [==============================] - 92s 221ms/step - loss: 0.0080 - accuracy: 0.9974 - val_loss: 0.0355 - val_accuracy: 0.9898\n",
      "Epoch 11/15\n",
      "416/416 [==============================] - 92s 221ms/step - loss: 0.0071 - accuracy: 0.9976 - val_loss: 0.0380 - val_accuracy: 0.9898\n",
      "Epoch 12/15\n",
      "416/416 [==============================] - 92s 222ms/step - loss: 0.0064 - accuracy: 0.9980 - val_loss: 0.0380 - val_accuracy: 0.9898\n",
      "Epoch 13/15\n",
      "416/416 [==============================] - 93s 223ms/step - loss: 0.0058 - accuracy: 0.9980 - val_loss: 0.0383 - val_accuracy: 0.9898\n",
      "Epoch 14/15\n",
      "416/416 [==============================] - 94s 226ms/step - loss: 0.0057 - accuracy: 0.9976 - val_loss: 0.0386 - val_accuracy: 0.9898\n",
      "Epoch 15/15\n",
      "416/416 [==============================] - 96s 232ms/step - loss: 0.0054 - accuracy: 0.9977 - val_loss: 0.0388 - val_accuracy: 0.9898\n"
     ]
    }
   ],
   "source": [
    "model_history = model_pwsh.fit(train_dataset,\n",
    "                              epochs=15,\n",
    "                              validation_data=val_dataset,\n",
    "                              callbacks=[checkpoint])"
   ]
  },
  {
   "cell_type": "code",
   "execution_count": 15,
   "metadata": {},
   "outputs": [
    {
     "data": {
      "image/png": "[encoded data removed]",
      "text/plain": [
       "<Figure size 640x480 with 1 Axes>"
      ]
     },
     "metadata": {},
     "output_type": "display_data"
    },
    {
     "data": {
      "image/png": "[encoded data removed]",
      "text/plain": [
       "<Figure size 640x480 with 1 Axes>"
      ]
     },
     "metadata": {},
     "output_type": "display_data"
    }
   ],
   "source": [
    "# Loss\n",
    "plt.plot(model_history.history['loss'], label='loss')\n",
    "plt.plot(model_history.history['val_loss'], label='val_loss')\n",
    "plt.title('Model training statistics (loss)')\n",
    "plt.ylabel('value')\n",
    "plt.xlabel('No. epoch')\n",
    "plt.legend(loc=\"upper right\")\n",
    "plt.show()\n",
    "# Accuracy\n",
    "plt.plot(model_history.history['accuracy'], label='accuracy')\n",
    "plt.plot(model_history.history['val_accuracy'], label='val_accuracy')\n",
    "plt.title('Model training statistics (accuracy)')\n",
    "plt.ylabel('value')\n",
    "plt.xlabel('No. epoch')\n",
    "plt.legend(loc=\"lower right\")\n",
    "plt.show()"
   ]
  },
  {
   "cell_type": "code",
   "execution_count": 16,
   "metadata": {},
   "outputs": [
    {
     "name": "stdout",
     "output_type": "stream",
     "text": [
      "Тестирование модели на неизвестных данных\n",
      "13/13 [==============================] - 1s 41ms/step\n",
      "Результаты тестирования: \n",
      " {'accuracy': 100.0, 'precision': 1.0, 'recall': 1.0, 'f1': 1.0}\n",
      "Тестирование модели на валидационных данных\n",
      "104/104 [==============================] - 5s 41ms/step\n",
      "Результаты тестирования: \n",
      " {'accuracy': 99.0985576923077, 'precision': 0.9910031801234124, 'recall': 0.9909855769230769, 'f1': 0.9909854304167056}\n"
     ]
    }
   ],
   "source": [
    "# Функция для подготовки результатов обучения модели\n",
    "def calculate_results(y_true, y_pred):\n",
    "  # Расчет accuracy\n",
    "  model_accuracy = accuracy_score(y_true, y_pred) * 100\n",
    "  # Расчет precision, recall, f1\n",
    "  model_precision, model_recall, model_f1, support = precision_recall_fscore_support(y_true, y_pred, average=\"weighted\")\n",
    "  model_results = {\"accuracy\": model_accuracy,\n",
    "                  \"precision\": model_precision,\n",
    "                  \"recall\": model_recall,\n",
    "                  \"f1\": model_f1}\n",
    "  return model_results\n",
    "\n",
    "# Загрузка модели\n",
    "test_model = tf.keras.models.load_model(\"model_pwsh\")\n",
    "# Тестирование модели\n",
    "print('Тестирование модели на неизвестных данных')\n",
    "# Получение результатов работы модели на тестовом датасете\n",
    "model_test_probs = test_model.predict(test_dataset)\n",
    "# Конвертация результатов в классы\n",
    "model_test_preds = tf.argmax(model_test_probs, axis=1)\n",
    "# Расчет результатов\n",
    "model_test_results = calculate_results(y_true=y_test,\n",
    "                                       y_pred=model_test_preds)\n",
    "print('Результаты тестирования: \\n',model_test_results)\n",
    "\n",
    "print('Тестирование модели на валидационных данных')\n",
    "model_test_probs = test_model.predict(val_dataset)\n",
    "model_test_preds = tf.argmax(model_test_probs, axis=1)\n",
    "model_test_results = calculate_results(y_true=val_labels_encoded,\n",
    "                                       y_pred=model_test_preds)\n",
    "print('Результаты тестирования: \\n',model_test_results)"
   ]
  }
 ],
 "metadata": {
  "kernelspec": {
   "display_name": "Python 3",
   "language": "python",
   "name": "python3"
  },
  "language_info": {
   "codemirror_mode": {
    "name": "ipython",
    "version": 3
   },
   "file_extension": ".py",
   "mimetype": "text/x-python",
   "name": "python",
   "nbconvert_exporter": "python",
   "pygments_lexer": "ipython3",
   "version": "3.11.9"
  }
 },
 "nbformat": 4,
 "nbformat_minor": 2
}
